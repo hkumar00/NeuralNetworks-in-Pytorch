{
 "cells": [
  {
   "cell_type": "markdown",
   "id": "4760acb0-21aa-4812-8ff9-ee522da07d89",
   "metadata": {},
   "source": [
    "### Feed Forward Neural Network\n",
    "\n",
    "#### Dataset :\n",
    "    MNIST dataset consisting of grayscale images and corresponding labels\n",
    "    Images contain a digit from 0-9 and label identifies the digit in the image\n",
    "\n",
    "#### Model:\n",
    "    We are using a simple neural network with a single hidden layer.\n",
    "    hidden_layer has 128 units and input layer has 64 neuron units.\n",
    "    Input data is passed in batches of size 64.\n",
    "    We are using ReLU activation after the input layer.\n",
    "    Output corresponds to ten classes each representing the predicted digit for the passed input image\n",
    "    Adam is being used as the optimizer to minimize crossEntropy loss.\n",
    "\n",
    "#### Training Loop:\n",
    "    It runs across the training batches for 10 epochs.\n",
    "    In each epoch, we do a forward pass, followed by loss calculation and then backward pass for updating model parameters.\n",
    "\n",
    "#### Test results\n",
    "    We pass the test dataset which is different from training dataset through the trained NN.\n",
    "    Results from the model are then compared against the actual labels.\n",
    "    Accuracy is being used as the metric to measure how well the model is performing.\n",
    "    Accuracy = (correct predictions / total predictions)*100 %"
   ]
  },
  {
   "cell_type": "code",
   "execution_count": 151,
   "id": "8f3e211d-1f37-4c0d-9f18-06b0a9b03bb9",
   "metadata": {},
   "outputs": [],
   "source": [
    "import torch\n",
    "import torch.nn as nn\n",
    "import torchvision.transforms as transforms\n",
    "from torchvision import datasets\n",
    "from torch.utils.data import DataLoader\n",
    "\n",
    "from matplotlib import pyplot as plt\n",
    "%matplotlib inline"
   ]
  },
  {
   "cell_type": "code",
   "execution_count": 158,
   "id": "528003e9-7d07-4bc7-9edb-54395d90d1a2",
   "metadata": {},
   "outputs": [],
   "source": [
    "class DataWrapper:\n",
    "    def __init__(self):\n",
    "        self.trainDataset = None\n",
    "        self.testDataset = None\n",
    "        self.trainDataLoader = None\n",
    "        self.testDataLoader = None\n",
    "\n",
    "        self.loadDatasets()\n",
    "        self.createDataLoaders()\n",
    "\n",
    "    def loadDatasets(self):\n",
    "        # root -> path where we want to save the downloaded data\n",
    "        # train -> Whether this is training dataset\n",
    "        # transform -> Any modifications to be applied to data\n",
    "        self.trainDataset = datasets.MNIST(root=\"./mnist_data\",\n",
    "                                       download= True,\n",
    "                                       train = True,\n",
    "                                       transform=transforms.ToTensor())\n",
    "        \n",
    "        self.testDataset = datasets.MNIST(root=\"./mnist_data\",\n",
    "                                     train=False,\n",
    "                                     download=True,\n",
    "                                     transform=transforms.ToTensor())\n",
    "    def createDataLoaders(self):\n",
    "        self.trainDataLoader = DataLoader(dataset=train_dataset,\n",
    "                                              batch_size=64,\n",
    "                                              shuffle=True)\n",
    "        \n",
    "        self.testDataLoader = DataLoader(dataset=test_dataset,\n",
    "                                             batch_size=64,\n",
    "                                             shuffle=False)\n",
    "\n",
    "    def show_image(self, image, label, prediction=True):\n",
    "        if prediction:\n",
    "            print(\"Prediction:\", label)\n",
    "        else:\n",
    "            print(\"Label:\", label)\n",
    "        plt.imshow(image.squeeze(), cmap=\"gray\")\n",
    "        plt.show()\n",
    "\n",
    "    def showExamples(self, n=3, train=True):\n",
    "        dataset, prediction = (self.trainDataset, False) if train else (self.testDataset, True)\n",
    "        while(n):\n",
    "            image, label = dataset[n]\n",
    "            self.show_image(image, label, prediction)\n",
    "            n -= 1"
   ]
  },
  {
   "cell_type": "markdown",
   "id": "ab26c18e-feab-499c-ba73-9511cc54a870",
   "metadata": {},
   "source": [
    "#### Visulaize some images from dataset"
   ]
  },
  {
   "cell_type": "code",
   "execution_count": 159,
   "id": "13ab0917-7d95-49d7-912e-7d7c00717601",
   "metadata": {},
   "outputs": [
    {
     "name": "stdout",
     "output_type": "stream",
     "text": [
      "Label: 1\n"
     ]
    },
    {
     "data": {
      "image/png": "[encoded data removed]",
      "text/plain": [
       "<Figure size 640x480 with 1 Axes>"
      ]
     },
     "metadata": {},
     "output_type": "display_data"
    },
    {
     "name": "stdout",
     "output_type": "stream",
     "text": [
      "Label: 4\n"
     ]
    },
    {
     "data": {
      "image/png": "[encoded data removed]",
      "text/plain": [
       "<Figure size 640x480 with 1 Axes>"
      ]
     },
     "metadata": {},
     "output_type": "display_data"
    },
    {
     "name": "stdout",
     "output_type": "stream",
     "text": [
      "Label: 0\n"
     ]
    },
    {
     "data": {
      "image/png": "[encoded data removed]",
      "text/plain": [
       "<Figure size 640x480 with 1 Axes>"
      ]
     },
     "metadata": {},
     "output_type": "display_data"
    }
   ],
   "source": [
    "data = DataWrapper()\n",
    "data.showExamples()"
   ]
  },
  {
   "cell_type": "markdown",
   "id": "78eb3fb1-74f5-42ac-aa27-d96468921531",
   "metadata": {},
   "source": [
    "#### Model and wrapper to run training/testing"
   ]
  },
  {
   "cell_type": "code",
   "execution_count": 160,
   "id": "b30fa89d-d671-4901-917a-e0a8e68deb29",
   "metadata": {},
   "outputs": [],
   "source": [
    "# Feed Forward Neural Network\n",
    "class FFNN(nn.Module):\n",
    "    def __init__(self, input_size, hidden_size, num_classes):\n",
    "        super(FFNN, self).__init__()\n",
    "        self.input_layer = nn.Linear(input_size, hidden_size)\n",
    "        self.activation = nn.ReLU()\n",
    "        self.hidden_layer = nn.Linear(hidden_size, num_classes)\n",
    "\n",
    "    def forward(self, x):\n",
    "        x = self.input_layer(x)\n",
    "        x = self.activation(x)\n",
    "        x = self.hidden_layer(x)\n",
    "        return x\n"
   ]
  },
  {
   "cell_type": "code",
   "execution_count": 169,
   "id": "a1bdb2c0-7d14-4dd7-8fe3-c6be5130464c",
   "metadata": {},
   "outputs": [],
   "source": [
    "class NN_Wrapper:\n",
    "    def __init__(self, **kwargs):\n",
    "        self.input_size = kwargs.get(\"input_size\", 28*28)\n",
    "        self.hidden_size = kwargs.get(\"hidden_size\", 128)\n",
    "        self.lr = kwargs.get(\"learning_rate\", 0.001)\n",
    "        self.num_classes = kwargs.get(\"num_classes\", 10)\n",
    "        self.epochs = kwargs.get(\"epochs\", 5)\n",
    "        self.batch_size = kwargs.get(\"batch_size\", 64)\n",
    "\n",
    "        self.model = FFNN(self.input_size, self.hidden_size, self.num_classes)\n",
    "        self.criterion = nn.CrossEntropyLoss()\n",
    "        self.optimizer = torch.optim.Adam(self.model.parameters(), lr=self.lr)\n",
    "        self.accuracy = 0.0\n",
    "\n",
    "        self.data = DataWrapper()\n",
    "        \n",
    "    def run(self):\n",
    "        self.train()\n",
    "        self.test()\n",
    "\n",
    "    def train(self):\n",
    "        # Training Loop\n",
    "        print(\"Training the model...\")\n",
    "        steps = len(self.data.trainDataLoader)\n",
    "        for epoch in range(self.epochs):\n",
    "            for index, (images, labels) in enumerate(train_dl):\n",
    "                images = images.reshape(-1, input_size) # (64, 1, 28, 28) -> (64, 784)\n",
    "                \n",
    "                # Forward Pass\n",
    "                out = self.model(images)\n",
    "        \n",
    "                # Loss calculation\n",
    "                loss = self.criterion(out, labels)\n",
    "\n",
    "                if index % 500 == 0:\n",
    "                    print(\"Epoch [{}/{}], Step [{}/{}], Loss - {:.2f}\".format(epoch, self.epochs,\n",
    "                                                                             i, steps, loss.item()))\n",
    "                # Clean up gradients\n",
    "                self.optimizer.zero_grad()\n",
    "                \n",
    "                # Backward Pass (Gradient calculation)\n",
    "                loss.backward()\n",
    "            \n",
    "                # Parameters update\n",
    "                self.optimizer.step()\n",
    "\n",
    "\n",
    "    def test(self):\n",
    "        print(\"\\n\\nTesting the model...\")\n",
    "        total_predictions = 0\n",
    "        correct_predictions = 0\n",
    "        \n",
    "        for i, (images, labels) in enumerate(self.data.testDataLoader):\n",
    "            images = images.reshape(-1, self.input_size)\n",
    "            output = self.model(images)\n",
    "        \n",
    "            _, predictions = torch.max(output, dim=1)\n",
    "            total_predictions += labels.size(0)\n",
    "            correct_predictions += (predictions == labels).sum().item()\n",
    "        print(\"Accuracy: {}%\".format(correct_predictions/total_predictions*100))"
   ]
  },
  {
   "cell_type": "code",
   "execution_count": 170,
   "id": "fd164522-d0f0-4e05-8a04-2645ec6fe3d7",
   "metadata": {},
   "outputs": [],
   "source": [
    "handle = NN_Wrapper()"
   ]
  },
  {
   "cell_type": "code",
   "execution_count": 171,
   "id": "acc6db2b-734d-4ee9-a834-f358fab8f943",
   "metadata": {},
   "outputs": [
    {
     "name": "stdout",
     "output_type": "stream",
     "text": [
      "Training the model...\n",
      "Epoch [0/5], Step [156/938], Loss - 2.31\n",
      "Epoch [0/5], Step [156/938], Loss - 0.14\n",
      "Epoch [1/5], Step [156/938], Loss - 0.11\n",
      "Epoch [1/5], Step [156/938], Loss - 0.15\n",
      "Epoch [2/5], Step [156/938], Loss - 0.08\n",
      "Epoch [2/5], Step [156/938], Loss - 0.11\n",
      "Epoch [3/5], Step [156/938], Loss - 0.06\n",
      "Epoch [3/5], Step [156/938], Loss - 0.12\n",
      "Epoch [4/5], Step [156/938], Loss - 0.08\n",
      "Epoch [4/5], Step [156/938], Loss - 0.02\n",
      "Testing the model...\n",
      "Accuracy: 97.42%\n"
     ]
    }
   ],
   "source": [
    "handle.run()"
   ]
  },
  {
   "cell_type": "markdown",
   "id": "d9e38fd4-0177-4c93-80f9-905627f7b5bf",
   "metadata": {},
   "source": [
    "#### Visualize predictions"
   ]
  },
  {
   "cell_type": "code",
   "execution_count": 178,
   "id": "ebc6b288-5489-4680-b33a-249d4ac2bd39",
   "metadata": {},
   "outputs": [
    {
     "name": "stdout",
     "output_type": "stream",
     "text": [
      "Actual Label :  0\n",
      "Prediction: 0\n"
     ]
    },
    {
     "data": {
      "image/png": "[encoded data removed]",
      "text/plain": [
       "<Figure size 640x480 with 1 Axes>"
      ]
     },
     "metadata": {},
     "output_type": "display_data"
    }
   ],
   "source": [
    "# Check predictions\n",
    "image, label = handle.data.testDataset[3]  # Change the index value to pick any other image\n",
    "prediction = handle.model(image.reshape(-1, 784))\n",
    "_, predicted_label = torch.max(prediction, dim=1)\n",
    "print(\"Actual Label : \", label)\n",
    "handle.data.show_image(image, predicted_label.item(), prediction=True)"
   ]
  },
  {
   "cell_type": "code",
   "execution_count": null,
   "id": "ef5bdd90-4269-40df-b294-00895358ba81",
   "metadata": {},
   "outputs": [],
   "source": []
  }
 ],
 "metadata": {
  "kernelspec": {
   "display_name": "Python 3 (ipykernel)",
   "language": "python",
   "name": "python3"
  },
  "language_info": {
   "codemirror_mode": {
    "name": "ipython",
    "version": 3
   },
   "file_extension": ".py",
   "mimetype": "text/x-python",
   "name": "python",
   "nbconvert_exporter": "python",
   "pygments_lexer": "ipython3",
   "version": "3.12.7"
  }
 },
 "nbformat": 4,
 "nbformat_minor": 5
}
